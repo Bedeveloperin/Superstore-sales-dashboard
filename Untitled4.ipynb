{
 "cells": [
  {
   "cell_type": "code",
   "execution_count": 2,
   "id": "92d4397e",
   "metadata": {},
   "outputs": [
    {
     "name": "stdout",
     "output_type": "stream",
     "text": [
      "<class 'pandas.core.frame.DataFrame'>\n",
      "RangeIndex: 9994 entries, 0 to 9993\n",
      "Data columns (total 19 columns):\n",
      " #   Column         Non-Null Count  Dtype  \n",
      "---  ------         --------------  -----  \n",
      " 0   order_id       9994 non-null   object \n",
      " 1   order_date     9994 non-null   object \n",
      " 2   ship_date      9994 non-null   object \n",
      " 3   customer       9994 non-null   object \n",
      " 4   manufactory    9994 non-null   object \n",
      " 5   product_name   9994 non-null   object \n",
      " 6   segment        9994 non-null   object \n",
      " 7   category       9994 non-null   object \n",
      " 8   subcategory    9994 non-null   object \n",
      " 9   region         9994 non-null   object \n",
      " 10  zip            9994 non-null   int64  \n",
      " 11  city           9994 non-null   object \n",
      " 12  state          9994 non-null   object \n",
      " 13  country        9994 non-null   object \n",
      " 14  discount       9994 non-null   float64\n",
      " 15  profit         9994 non-null   float64\n",
      " 16  quantity       9994 non-null   int64  \n",
      " 17  sales          9994 non-null   float64\n",
      " 18  profit_margin  9994 non-null   float64\n",
      "dtypes: float64(4), int64(2), object(13)\n",
      "memory usage: 1.4+ MB\n"
     ]
    }
   ],
   "source": [
    "import numpy as np \n",
    "import pandas as pd\n",
    "\n",
    "data = pd.read_csv(\"superstore_dataset.csv\")\n",
    "data.info()\n",
    "data.dtypes\n",
    "data.isnull().sum()"
   ]
  },
  {
   "cell_type": "code",
   "execution_count": 3,
   "id": "0817ee4b",
   "metadata": {},
   "outputs": [
    {
     "data": {
      "text/plain": [
       "order_id         0\n",
       "order_date       0\n",
       "ship_date        0\n",
       "customer         0\n",
       "manufactory      0\n",
       "product_name     0\n",
       "segment          0\n",
       "category         0\n",
       "subcategory      0\n",
       "region           0\n",
       "zip              0\n",
       "city             0\n",
       "state            0\n",
       "country          0\n",
       "discount         0\n",
       "profit           0\n",
       "quantity         0\n",
       "sales            0\n",
       "profit_margin    0\n",
       "dtype: int64"
      ]
     },
     "execution_count": 3,
     "metadata": {},
     "output_type": "execute_result"
    }
   ],
   "source": [
    "data.isnull().sum()"
   ]
  },
  {
   "cell_type": "code",
   "execution_count": 5,
   "id": "daccc341",
   "metadata": {},
   "outputs": [
    {
     "data": {
      "text/plain": [
       "order_id          object\n",
       "order_date        object\n",
       "ship_date         object\n",
       "customer          object\n",
       "manufactory       object\n",
       "product_name      object\n",
       "segment           object\n",
       "category          object\n",
       "subcategory       object\n",
       "region            object\n",
       "zip                int64\n",
       "city              object\n",
       "state             object\n",
       "country           object\n",
       "discount         float64\n",
       "profit           float64\n",
       "quantity           int64\n",
       "sales            float64\n",
       "profit_margin    float64\n",
       "dtype: object"
      ]
     },
     "execution_count": 5,
     "metadata": {},
     "output_type": "execute_result"
    }
   ],
   "source": [
    "data.dtypes"
   ]
  },
  {
   "cell_type": "markdown",
   "id": "b67ecb6d",
   "metadata": {},
   "source": [
    "# Data is not null value and no error any row or columns"
   ]
  }
 ],
 "metadata": {
  "kernelspec": {
   "display_name": "Python 3",
   "language": "python",
   "name": "python3"
  },
  "language_info": {
   "codemirror_mode": {
    "name": "ipython",
    "version": 3
   },
   "file_extension": ".py",
   "mimetype": "text/x-python",
   "name": "python",
   "nbconvert_exporter": "python",
   "pygments_lexer": "ipython3",
   "version": "3.6.7"
  }
 },
 "nbformat": 4,
 "nbformat_minor": 5
}
